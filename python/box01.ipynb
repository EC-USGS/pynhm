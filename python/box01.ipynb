{
 "cells": [
  {
   "cell_type": "code",
   "execution_count": null,
   "id": "3d4f7a47-b47a-4e71-ad63-452ba45eae40",
   "metadata": {},
   "outputs": [],
   "source": [
    "import os\n",
    "import sys\n",
    "import functools\n",
    "import matplotlib.pyplot as plt\n",
    "import numpy as np\n",
    "import pandas as pd\n",
    "import datetime\n",
    "\n",
    "sys.path.append(\"../\")"
   ]
  },
  {
   "cell_type": "code",
   "execution_count": null,
   "id": "544987d7-4905-4da4-b56d-fa8e2f3e183e",
   "metadata": {},
   "outputs": [],
   "source": [
    "# from pynhm import load_wbl_output, load_prms_input\n",
    "import pynhm"
   ]
  },
  {
   "cell_type": "code",
   "execution_count": null,
   "id": "10429e79-9387-458b-a796-aee612fcbea2",
   "metadata": {},
   "outputs": [],
   "source": [
    "wbal_df = pynhm.load_wbl_output(\"../prms_models/box01\")\n",
    "wbal_df"
   ]
  },
  {
   "cell_type": "code",
   "execution_count": null,
   "id": "528a796c-5a26-4e48-9836-a86f6b47b7b6",
   "metadata": {},
   "outputs": [],
   "source": [
    "wbal_df.columns"
   ]
  },
  {
   "cell_type": "markdown",
   "id": "7129d3ca-25ec-4293-ba9e-62189769884a",
   "metadata": {},
   "source": [
    "# Load PRMS5 Input and Output Files for NHM Basin"
   ]
  },
  {
   "cell_type": "code",
   "execution_count": null,
   "id": "10ddab95-6bb1-46aa-a059-3fe329008c0a",
   "metadata": {},
   "outputs": [],
   "source": [
    "input_data_path = \"../prms_models/box01/input\"\n",
    "output_data_path = \"../prms_models/box01/output\""
   ]
  },
  {
   "cell_type": "code",
   "execution_count": null,
   "id": "f0671d65-1523-4dba-8545-0acd3da7ea61",
   "metadata": {},
   "outputs": [],
   "source": [
    "input_data_path\n",
    "datanames = [\"precipitation\", \"temp_min\", \"temp_max\"]\n",
    "filenames = [\"prcp.cbh\", \"tmin.cbh\", \"tmax.cbh\"]\n",
    "input_df = pynhm.load_prms_input(input_data_path, datanames, filenames)\n",
    "input_df"
   ]
  },
  {
   "cell_type": "code",
   "execution_count": null,
   "id": "e6d27dde-fff4-4fac-b31f-bc164912f802",
   "metadata": {},
   "outputs": [],
   "source": [
    "# load prms output\n",
    "csvfiles = [f for f in os.listdir(output_data_path) if f.endswith(\".csv\")]\n",
    "csvfiles.remove(\"stats.csv\")\n",
    "output_df = pynhm.load_prms_output(output_data_path, csvfiles)\n",
    "output_df"
   ]
  },
  {
   "cell_type": "code",
   "execution_count": null,
   "id": "7bdee703-9ae3-43a9-8c3b-a4eba9e617de",
   "metadata": {},
   "outputs": [],
   "source": [
    "# load the prms5 stats.csv file\n",
    "fname = os.path.join(output_data_path, \"stats.csv\")\n",
    "prms_stats_df = pynhm.load_prms_statscsv(fname)\n",
    "prms_stats_df.columns"
   ]
  },
  {
   "cell_type": "code",
   "execution_count": null,
   "id": "7acc8f4f-0c91-400a-a802-caffb8b0b723",
   "metadata": {},
   "outputs": [],
   "source": [
    "prms_stats_df.loc[:, [\"date\", \"basin_intcp_stor\", \"basin_intcp_evap\"]]"
   ]
  },
  {
   "cell_type": "markdown",
   "id": "bde83832-a2f6-4031-ac2f-2ccbc3de7ebc",
   "metadata": {},
   "source": [
    "# Run Python NHM"
   ]
  },
  {
   "cell_type": "code",
   "execution_count": null,
   "id": "13c8426d-d85a-4dcc-a254-55924978f39a",
   "metadata": {},
   "outputs": [],
   "source": [
    "start_time = datetime.datetime(1980, 10, 1)\n",
    "end_time = datetime.datetime(2019, 12, 31)\n",
    "# end_time = datetime.datetime(1981, 10, 1)\n",
    "delta_time = datetime.timedelta(days=1)\n",
    "print(start_time, end_time)"
   ]
  },
  {
   "cell_type": "code",
   "execution_count": null,
   "id": "7f98d2fb-98d3-48b3-a5c8-051753180766",
   "metadata": {},
   "outputs": [],
   "source": [
    "# for now assume rainfall is the precipitation input\n",
    "#date_mask = (input_df[\"date\"] >= start_time) & (input_df[\"date\"] <= end_time)\n",
    "#rainfall = input_df.loc[date_mask, [\"precipitation\"]]\n",
    "#rainfall = np.array(rainfall).flatten()\n",
    "#rainfall\n",
    "\n",
    "# assume that rainfall is the hru_ppt data in the NHM output\n",
    "date_mask = (output_df[\"date\"] >= start_time) & (output_df[\"date\"] <= end_time)\n",
    "rainfall = output_df.loc[date_mask, [\"hru_ppt\"]]\n",
    "rainfall = np.array(rainfall).flatten()\n",
    "rainfall"
   ]
  },
  {
   "cell_type": "code",
   "execution_count": null,
   "id": "1d30a235-edfd-47fa-a7f8-61247fd1cdcb",
   "metadata": {},
   "outputs": [],
   "source": [
    "# for now provide potential ET as basin_potet prms output\n",
    "date_mask = (prms_stats_df[\"date\"] >= start_time) & (prms_stats_df[\"date\"] <= end_time)\n",
    "potential_evapotranspiration = prms_stats_df.loc[date_mask, [\"basin_potet\"]]\n",
    "potential_evapotranspiration = np.array(potential_evapotranspiration).flatten()\n",
    "potential_evapotranspiration.shape, potential_evapotranspiration"
   ]
  },
  {
   "cell_type": "code",
   "execution_count": null,
   "id": "228f1d19-fe65-4cf1-b7d5-c43d19165900",
   "metadata": {},
   "outputs": [],
   "source": [
    "prms_stats_df.columns"
   ]
  },
  {
   "cell_type": "code",
   "execution_count": null,
   "id": "575ddca0-7709-4be8-b0ca-24368d3c0fa9",
   "metadata": {},
   "outputs": [],
   "source": [
    "wbal_df[\"soilzone_last_sm\"].plot()"
   ]
  },
  {
   "cell_type": "code",
   "execution_count": null,
   "id": "f06a2aab-fd9e-40f5-9ede-1c7ba3154859",
   "metadata": {},
   "outputs": [],
   "source": [
    "plt.plot(wbal_df[\"soilzone_last_sm\"], output_df[\"soil_moist_ante\"], \"bo\")"
   ]
  },
  {
   "cell_type": "code",
   "execution_count": null,
   "id": "28e08a8d-35c7-4e81-9663-fa9f4d840114",
   "metadata": {},
   "outputs": [],
   "source": [
    "# for now provide previous soil moisture for runoff calculation\n",
    "date_mask = (output_df[\"date\"] >= start_time) & (output_df[\"date\"] <= end_time)\n",
    "soil_moisture0_in = output_df.loc[date_mask, [\"soil_moist_ante\"]].to_numpy().flatten()\n",
    "soil_moisture0_in.shape, soil_moisture0_in"
   ]
  },
  {
   "cell_type": "code",
   "execution_count": null,
   "id": "1d781116-2dda-42a9-8dba-fae178300a6d",
   "metadata": {},
   "outputs": [],
   "source": [
    "# run a pynhm run\n",
    "print(\"Initializing...\")\n",
    "#rainfall = [4.5, 0., 0., 0., 0.]\n",
    "#potential_evapotranspiration = len(rainfall) * [1.]\n",
    "\n",
    "# conversion factors\n",
    "inch_to_meter = 0.0254\n",
    "acre_to_meter_squared = 4046.8564224\n",
    "\n",
    "# Assign input variables and convert to metric units\n",
    "area = 1.0 * acre_to_meter_squared\n",
    "\n",
    "# forcings\n",
    "rainfall *= inch_to_meter\n",
    "potential_evapotranspiration *= inch_to_meter\n",
    "\n",
    "# interception\n",
    "intcp_stor_max = 0.003847 * inch_to_meter\n",
    "covden = 0.2308\n",
    "\n",
    "# surface runoff\n",
    "hru_percent_imperv = 0.0\n",
    "imperv_stor_start = 0.0 * inch_to_meter\n",
    "imperv_stor_max = 0.0500000 * inch_to_meter\n",
    "carea_min = 0.0 # default\n",
    "carea_max = 1.0\n",
    "soil_rechr_max_frac = 0.8170124\n",
    "smidx_coef = 0.0002278\n",
    "smidx_exp = 1.2787037  # 1 / inch\n",
    "smidx_exp = smidx_exp / inch_to_meter\n",
    "soil_moisture0_in *= inch_to_meter\n",
    "\n",
    "forcings = pynhm.AtmosphericForcings(\n",
    "    rainfall, \n",
    "    potential_evapotranspiration\n",
    ")\n",
    "\n",
    "cnp = pynhm.prmsCanopy(\n",
    "    id=0, \n",
    "    area=area, \n",
    "    forcing=forcings,\n",
    "    verbose=False,\n",
    "    intcp_stor_start=0., \n",
    "    intcp_stor_max=intcp_stor_max, \n",
    "    covden=covden\n",
    ")\n",
    "\n",
    "sro = pynhm.prmsSurfaceRunoff(\n",
    "    id=1, \n",
    "    area=area, \n",
    "    forcing=forcings,\n",
    "    verbose=False,\n",
    "    hru_percent_imperv=hru_percent_imperv, \n",
    "    imperv_stor_start=imperv_stor_start,\n",
    "    imperv_stor_max=imperv_stor_max,\n",
    "    carea_min=carea_min,\n",
    "    carea_max=carea_max,\n",
    "    soil_rechr_max_frac=soil_rechr_max_frac,\n",
    "    smidx_coef=smidx_coef,\n",
    "    smidx_exp=smidx_exp,\n",
    "    soil_moisture0_in=soil_moisture0_in,\n",
    ")\n",
    "\n",
    "# connect storage units\n",
    "cnp.register_recipient(sro, \"net_precipitation\")\n",
    "\n",
    "# create list of storage units in order of flow calculation\n",
    "storage_units = [cnp, sro]\n",
    "\n",
    "time_length = float(delta_time.days)\n",
    "verbose = False\n",
    "current_time = start_time\n",
    "itime_step = 0\n",
    "\n",
    "driver = pynhm.driver(current_time, end_time, delta_time, forcings, storage_units, verbose)\n",
    "\n",
    "driver.run()\n",
    "\n",
    "driver.finalize()\n"
   ]
  },
  {
   "cell_type": "markdown",
   "id": "2c4e42d2-967b-4c34-9024-116bbb87f865",
   "metadata": {},
   "source": [
    "# Process Canopy Budget"
   ]
  },
  {
   "cell_type": "code",
   "execution_count": null,
   "id": "90ea5995-6540-41c5-b318-5943b25d1458",
   "metadata": {},
   "outputs": [],
   "source": [
    "# output for python version\n",
    "cnp_df = pd.DataFrame(np.array(cnp.output_data), columns=cnp.output_column_names)\n",
    "cnp_df"
   ]
  },
  {
   "cell_type": "code",
   "execution_count": null,
   "id": "3781e1ee-70ff-4bc0-b517-12083cc2c4e3",
   "metadata": {},
   "outputs": [],
   "source": [
    "# calculate english equivalents for comparison with prms\n",
    "conversion = [\n",
    "    (\"precip\", 1. / area / inch_to_meter),\n",
    "    (\"aet\", 1. / area / inch_to_meter),\n",
    "    (\"intcp_ds\", 1. / area / inch_to_meter),\n",
    "    (\"net_precip\", 1. / area / inch_to_meter),\n",
    "    (\"residual\", 1. / area / inch_to_meter),\n",
    "    (\"intcp_stor_new\", 1. / inch_to_meter),\n",
    "    (\"intcp_stor_old\", 1. / inch_to_meter),\n",
    "]\n",
    "cnp_english_df = cnp_df.copy()\n",
    "for name, conversion_factor in conversion:\n",
    "    cnp_english_df[name] *= conversion_factor\n",
    "cnp_english_df"
   ]
  },
  {
   "cell_type": "code",
   "execution_count": null,
   "id": "8268240a-6a3c-48de-b82d-b8f4aaaf1c37",
   "metadata": {},
   "outputs": [],
   "source": [
    "# PRMS output\n",
    "output_df.loc[:, [\"date\", \"hru_ppt\", \"net_ppt\", \"intcp_stor\", \"intcp_evap\"]]"
   ]
  },
  {
   "cell_type": "code",
   "execution_count": null,
   "id": "1f2a8aca-ea71-4737-9261-c84ded47b782",
   "metadata": {},
   "outputs": [],
   "source": [
    "d1 = np.array(-cnp_english_df[\"net_precip\"])\n",
    "d2 = np.array(output_df[\"net_ppt\"])\n",
    "ax = plt.subplot(1, 1, 1)\n",
    "ax.plot(d1, d2, 'bo')\n",
    "ax.set_xlabel(\"python net_precip\")\n",
    "ax.set_ylabel(\"prms net_ppt\")\n",
    "dmax = max(d1.max(), d2.max())\n",
    "ax.plot([0, dmax], [0, dmax], 'k-')"
   ]
  },
  {
   "cell_type": "code",
   "execution_count": null,
   "id": "dbaedb78-1c76-4288-a68e-548fa08f561d",
   "metadata": {},
   "outputs": [],
   "source": [
    "err = d2 - d1\n",
    "print(err.min(), err.max(), err.mean())"
   ]
  },
  {
   "cell_type": "code",
   "execution_count": null,
   "id": "fbdf4203-bebd-4d96-9e2f-84b80b724d36",
   "metadata": {},
   "outputs": [],
   "source": [
    "ax = plt.subplot(1, 1, 1)\n",
    "ax.plot(err, 'b-')\n",
    "ax.set_xlabel(\"day\")\n",
    "ax.set_ylabel(\"net_ppt error (prms - python)\")"
   ]
  },
  {
   "cell_type": "code",
   "execution_count": null,
   "id": "a9605cf2-32c0-44fb-b45f-1d3df7c08699",
   "metadata": {},
   "outputs": [],
   "source": []
  },
  {
   "cell_type": "markdown",
   "id": "5f293f50-e74b-48ad-8047-2c20ac346062",
   "metadata": {},
   "source": [
    "# Process Surface Runoff"
   ]
  },
  {
   "cell_type": "code",
   "execution_count": null,
   "id": "98782084-43f0-4d04-90de-13857a383765",
   "metadata": {},
   "outputs": [],
   "source": [
    "# output for python version\n",
    "sro_df = pd.DataFrame(np.array(sro.output_data), columns=sro.output_column_names)\n",
    "sro_df"
   ]
  },
  {
   "cell_type": "code",
   "execution_count": null,
   "id": "3273ec18-6b96-419f-b224-2e710e8d27cd",
   "metadata": {},
   "outputs": [],
   "source": [
    "# convert to english units for prms comparison\n",
    "conversion = [\n",
    "    (\"net_precipitation\", 1. / area / inch_to_meter),\n",
    "    (\"impervious_runoff\", 1. / area / inch_to_meter),\n",
    "    (\"impervious_ds\", 1. / area / inch_to_meter),\n",
    "    (\"impervious_et\", 1. / area / inch_to_meter),\n",
    "    (\"pervious_runoff\", 1. / area / inch_to_meter),\n",
    "    (\"infiltration\", 1. / area / inch_to_meter),\n",
    "    (\"residual\", 1. / area / inch_to_meter),\n",
    "    (\"impervious_stor_new\", 1. / inch_to_meter),\n",
    "    (\"impervious_stor_old\", 1. / inch_to_meter),\n",
    "]\n",
    "sro_english_df = sro_df.copy()\n",
    "for name, conversion_factor in conversion:\n",
    "    sro_english_df[name] *= conversion_factor\n",
    "sro_english_df"
   ]
  },
  {
   "cell_type": "code",
   "execution_count": null,
   "id": "59f17df0-5ea7-433a-af73-eaf65e31df3b",
   "metadata": {},
   "outputs": [],
   "source": [
    "# PRMS output\n",
    "output_df.loc[:, [\"date\", \"net_ppt\", \"hru_sroffi\", \"hru_impervevap\", \"hru_impervstor\", \n",
    "                  \"hru_sroffp\"]]"
   ]
  },
  {
   "cell_type": "code",
   "execution_count": null,
   "id": "8827814d-f5ca-4bc1-8ebd-e2959134fc0a",
   "metadata": {},
   "outputs": [],
   "source": [
    "d1 = np.array(-sro_english_df[\"impervious_runoff\"])\n",
    "d2 = np.array(output_df[\"hru_sroffi\"])\n",
    "ax = plt.subplot(1, 1, 1)\n",
    "ax.plot(d1, d2, 'bo')\n",
    "ax.set_xlabel(\"python impervious_runoff\")\n",
    "ax.set_ylabel(\"prms hru_sroffi\")\n",
    "dmax = max(d1.max(), d2.max())\n",
    "ax.plot([0, dmax], [0, dmax], 'k-')"
   ]
  },
  {
   "cell_type": "code",
   "execution_count": null,
   "id": "bcb3424c-9f38-4873-aa51-508a2088f89d",
   "metadata": {},
   "outputs": [],
   "source": [
    "d1 = np.array(-sro_english_df[\"impervious_et\"])\n",
    "d2 = np.array(output_df[\"hru_impervevap\"])\n",
    "ax = plt.subplot(1, 1, 1)\n",
    "ax.plot(d1, d2, 'bo')\n",
    "ax.set_xlabel(\"python impervious_et\")\n",
    "ax.set_ylabel(\"prms hru_impervevap\")\n",
    "dmax = max(d1.max(), d2.max())\n",
    "ax.plot([0, dmax], [0, dmax], 'k-')"
   ]
  },
  {
   "cell_type": "code",
   "execution_count": null,
   "id": "8fe28632-b3b4-44dd-9c02-41a0f2597c5f",
   "metadata": {},
   "outputs": [],
   "source": [
    "d1 = np.array(-sro_english_df[\"pervious_runoff\"])\n",
    "d2 = np.array(output_df[\"hru_sroffp\"])\n",
    "ax = plt.subplot(1, 1, 1)\n",
    "ax.plot(d1, d2, 'bo')\n",
    "ax.set_xlabel(\"python pervious_runoff\")\n",
    "ax.set_ylabel(\"prms hru_sroffp\")\n",
    "dmax = max(d1.max(), d2.max())\n",
    "ax.plot([0, dmax], [0, dmax], 'k-')"
   ]
  },
  {
   "cell_type": "code",
   "execution_count": null,
   "id": "df107521-1a40-4c5f-8f48-d51f660ec301",
   "metadata": {},
   "outputs": [],
   "source": [
    "err = d2 - d1\n",
    "print(err.min(), err.max(), err.mean())"
   ]
  },
  {
   "cell_type": "code",
   "execution_count": null,
   "id": "ab152a6a-b35f-4df2-82b4-a06b9158f0cd",
   "metadata": {},
   "outputs": [],
   "source": [
    "ax = plt.subplot(1, 1, 1)\n",
    "ax.plot(err, 'b-')\n",
    "ax.set_xlabel(\"day\")\n",
    "ax.set_ylabel(\"runoff error (prms - python)\")"
   ]
  },
  {
   "cell_type": "code",
   "execution_count": null,
   "id": "31e44fc5-37cc-4b2f-8d48-4b16a96dba53",
   "metadata": {},
   "outputs": [],
   "source": [
    "ax = plt.subplot(1, 1, 1)\n",
    "ax.plot(d1, 'b')\n",
    "ax.plot(d2, 'k')\n",
    "ax.set_xlabel(\"day\")\n",
    "ax.set_ylabel(\"pervious runoff\")"
   ]
  },
  {
   "cell_type": "code",
   "execution_count": null,
   "id": "83c661c5-4f95-4122-a7c0-647bfa8b2f58",
   "metadata": {},
   "outputs": [],
   "source": []
  }
 ],
 "metadata": {
  "kernelspec": {
   "display_name": "Python 3 (ipykernel)",
   "language": "python",
   "name": "python3"
  },
  "language_info": {
   "codemirror_mode": {
    "name": "ipython",
    "version": 3
   },
   "file_extension": ".py",
   "mimetype": "text/x-python",
   "name": "python",
   "nbconvert_exporter": "python",
   "pygments_lexer": "ipython3",
   "version": "3.9.7"
  }
 },
 "nbformat": 4,
 "nbformat_minor": 5
}
